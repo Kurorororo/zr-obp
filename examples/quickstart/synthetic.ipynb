{
 "cells": [
  {
   "cell_type": "markdown",
   "metadata": {},
   "source": [
    "# Quickstart: Use Cases and Examples with Synthetic Data\n",
    "---\n",
    "This notebook provides an example of conducting OPE of several different evaluation policies and synthetic logged bandit feedback data.\n",
    "\n",
    "Our example with synthetic data contains the follwoing four major steps:\n",
    "- (1) Synthetic Data Generation\n",
    "- (2) Off-Policy Learning\n",
    "- (3) Off-Policy Evaluation\n",
    "- (4) Evaluation of OPE Estimators\n",
    "\n",
    "Please see [https://github.com/st-tech/zr-obp/tree/master/examples/synthetic](https://github.com/st-tech/zr-obp/tree/master/examples/synthetic) \n",
    "for a more sophisticated example of the evaluation of OPE with synthetic datasets."
   ]
  },
  {
   "cell_type": "code",
   "execution_count": 1,
   "metadata": {},
   "outputs": [],
   "source": [
    "import numpy as np\n",
    "from sklearn.ensemble import RandomForestClassifier as RandomForest\n",
    "from sklearn.linear_model import LogisticRegression\n",
    "# import open bandit pipeline (obp)\n",
    "import obp\n",
    "from obp.dataset import (\n",
    "    SyntheticBanditDataset,\n",
    "    logistic_reward_function,\n",
    "    linear_reward_function,\n",
    "    linear_behavior_policy\n",
    ")\n",
    "from obp.policy import IPWLearner, Random\n",
    "from obp.ope import (\n",
    "    OffPolicyEvaluation, \n",
    "    RegressionModel,\n",
    "    InverseProbabilityWeighting,\n",
    "    DirectMethod,\n",
    "    DoublyRobust\n",
    ")"
   ]
  },
  {
   "cell_type": "code",
   "execution_count": 2,
   "metadata": {},
   "outputs": [
    {
     "name": "stdout",
     "output_type": "stream",
     "text": [
      "0.3.3\n"
     ]
    }
   ],
   "source": [
    "# obp version\n",
    "print(obp.__version__)"
   ]
  },
  {
   "cell_type": "code",
   "execution_count": null,
   "metadata": {},
   "outputs": [],
   "source": []
  },
  {
   "cell_type": "markdown",
   "metadata": {},
   "source": [
    "## (1) Synthetic Data Generation\n",
    "We prepare easy-to-use synthetic data generator: `SyntheticBanditDataset` class in the dataset module.\n",
    "\n",
    "It takes number of actions (`n_actions`), dimension of context vectors (`dim_context`), reward function (`reward_function`), and behavior policy (`behavior_policy_function`) as inputs and generates a synthetic bandit dataset that can be used to evaluate the performance of decision making policies (obtained by `off-policy learning`) and OPE estimators."
   ]
  },
  {
   "cell_type": "code",
   "execution_count": 3,
   "metadata": {
    "tags": []
   },
   "outputs": [
    {
     "data": {
      "text/plain": [
       "{'n_rounds': 100000,\n",
       " 'n_actions': 10,\n",
       " 'context': array([[-0.20470766,  0.47894334, -0.51943872, -0.5557303 ,  1.96578057],\n",
       "        [ 1.39340583,  0.09290788,  0.28174615,  0.76902257,  1.24643474],\n",
       "        [ 1.00718936, -1.29622111,  0.27499163,  0.22891288,  1.35291684],\n",
       "        ...,\n",
       "        [ 1.36946256,  0.58727761, -0.69296769, -0.27519988, -2.10289159],\n",
       "        [-0.27428715,  0.52635353,  1.02572168, -0.18486381,  0.72464834],\n",
       "        [-1.25579833, -1.42455203, -0.26361242,  0.27928604,  1.21015571]]),\n",
       " 'action_context': array([[1, 0, 0, 0, 0, 0, 0, 0, 0, 0],\n",
       "        [0, 1, 0, 0, 0, 0, 0, 0, 0, 0],\n",
       "        [0, 0, 1, 0, 0, 0, 0, 0, 0, 0],\n",
       "        [0, 0, 0, 1, 0, 0, 0, 0, 0, 0],\n",
       "        [0, 0, 0, 0, 1, 0, 0, 0, 0, 0],\n",
       "        [0, 0, 0, 0, 0, 1, 0, 0, 0, 0],\n",
       "        [0, 0, 0, 0, 0, 0, 1, 0, 0, 0],\n",
       "        [0, 0, 0, 0, 0, 0, 0, 1, 0, 0],\n",
       "        [0, 0, 0, 0, 0, 0, 0, 0, 1, 0],\n",
       "        [0, 0, 0, 0, 0, 0, 0, 0, 0, 1]]),\n",
       " 'action': array([7, 4, 0, ..., 7, 9, 6]),\n",
       " 'position': array([0, 0, 0, ..., 0, 0, 0]),\n",
       " 'reward': array([0, 1, 1, ..., 0, 1, 0]),\n",
       " 'expected_reward': array([[0.80210203, 0.73828559, 0.83199558, ..., 0.81190503, 0.70617705,\n",
       "         0.68985306],\n",
       "        [0.94119582, 0.93473317, 0.91345213, ..., 0.94140688, 0.93152449,\n",
       "         0.90132868],\n",
       "        [0.87248862, 0.67974991, 0.66965669, ..., 0.79229752, 0.82712978,\n",
       "         0.74923536],\n",
       "        ...,\n",
       "        [0.64856003, 0.38145901, 0.84476094, ..., 0.40962057, 0.77114661,\n",
       "         0.65752798],\n",
       "        [0.73208527, 0.82012699, 0.78161352, ..., 0.72361416, 0.8652249 ,\n",
       "         0.82571751],\n",
       "        [0.40348366, 0.24485417, 0.24037926, ..., 0.49613133, 0.30714854,\n",
       "         0.5527749 ]]),\n",
       " 'pscore': array([0.05423855, 0.10339675, 0.09756788, ..., 0.05423855, 0.07250876,\n",
       "        0.14065505])}"
      ]
     },
     "execution_count": 3,
     "metadata": {},
     "output_type": "execute_result"
    }
   ],
   "source": [
    "# generate a synthetic bandit dataset with 10 actions\n",
    "# we use `logistic function` as the reward function and `linear_behavior_policy` as the behavior policy.\n",
    "# one can define their own reward function and behavior policy such as nonlinear ones. \n",
    "dataset = SyntheticBanditDataset(\n",
    "    n_actions=10,\n",
    "    dim_context=5,\n",
    "    reward_type=\"binary\", # \"binary\" or \"continuous\"\n",
    "    reward_function=logistic_reward_function,\n",
    "    behavior_policy_function=linear_behavior_policy,\n",
    "    random_state=12345,\n",
    ")\n",
    "# obtain training and test sets of synthetic logged bandit feedback\n",
    "n_rounds_train, n_rounds_test = 100000, 100000\n",
    "bandit_feedback_train = dataset.obtain_batch_bandit_feedback(n_rounds=n_rounds_train)\n",
    "bandit_feedback_test = dataset.obtain_batch_bandit_feedback(n_rounds=n_rounds_test)\n",
    "\n",
    "# `bandit_feedback` is a dictionary storing synthetic logged bandit feedback\n",
    "bandit_feedback_train"
   ]
  },
  {
   "cell_type": "code",
   "execution_count": null,
   "metadata": {},
   "outputs": [],
   "source": []
  },
  {
   "cell_type": "markdown",
   "metadata": {},
   "source": [
    "## (2) Off-Policy Learning\n",
    "After generating synthetic data, we now train some candidate evaluation policies using the training set. <br>\n",
    "\n",
    "We use *IPW Learner* implemented in the policy module to train evaluation policies. \n",
    "We also use *RandomForestClassifier* and *LogisticRegression* implemented in scikit-learn for base machine learning methods."
   ]
  },
  {
   "cell_type": "code",
   "execution_count": 4,
   "metadata": {
    "tags": []
   },
   "outputs": [],
   "source": [
    "# define IPWLearner with Logistic Regression as its base ML model\n",
    "evaluation_policy_a = IPWLearner(\n",
    "    n_actions=dataset.n_actions,\n",
    "    len_list=dataset.len_list,\n",
    "    base_classifier=LogisticRegression(C=100, random_state=12345)\n",
    ")\n",
    "# train IPWLearner on the training set of the synthetic logged bandit feedback\n",
    "evaluation_policy_a.fit(\n",
    "    context=bandit_feedback_train[\"context\"],\n",
    "    action=bandit_feedback_train[\"action\"],\n",
    "    reward=bandit_feedback_train[\"reward\"],\n",
    "    pscore=bandit_feedback_train[\"pscore\"]\n",
    ")\n",
    "# obtains action choice probabilities for the test set of the synthetic logged bandit feedback\n",
    "action_dist_a = evaluation_policy_a.predict_proba(\n",
    "    context=bandit_feedback_test[\"context\"],\n",
    "    tau=0.1, # temperature hyperparameter\n",
    ")"
   ]
  },
  {
   "cell_type": "code",
   "execution_count": 5,
   "metadata": {
    "tags": []
   },
   "outputs": [],
   "source": [
    "# define IPWLearner with Random Forest as its base ML model\n",
    "evaluation_policy_b = IPWLearner(\n",
    "    n_actions=dataset.n_actions,\n",
    "    len_list=dataset.len_list,\n",
    "    base_classifier=RandomForest(n_estimators=30, min_samples_leaf=10, random_state=12345)\n",
    ")\n",
    "# train IPWLearner on the training set of the synthetic logged bandit feedback\n",
    "evaluation_policy_b.fit(\n",
    "    context=bandit_feedback_train[\"context\"],\n",
    "    action=bandit_feedback_train[\"action\"],\n",
    "    reward=bandit_feedback_train[\"reward\"],\n",
    "    pscore=bandit_feedback_train[\"pscore\"]\n",
    ")\n",
    "# obtains action choice probabilities for the test set of the synthetic logged bandit feedback\n",
    "action_dist_b = evaluation_policy_b.predict_proba(\n",
    "    context=bandit_feedback_test[\"context\"],\n",
    "    tau=0.1, # temperature hyperparameter\n",
    ")"
   ]
  },
  {
   "cell_type": "code",
   "execution_count": 6,
   "metadata": {},
   "outputs": [],
   "source": [
    "# define Uniform Random Policy as a baseline evaluation policy\n",
    "evaluation_policy_c = Random(\n",
    "    n_actions=dataset.n_actions,\n",
    "    len_list=dataset.len_list,\n",
    ")\n",
    "# compute the action choice probabililties for the test set of the synthetic logged bandit feedback\n",
    "action_dist_c = evaluation_policy_c.compute_batch_action_dist(\n",
    "    n_rounds=bandit_feedback_test[\"n_rounds\"]\n",
    ")"
   ]
  },
  {
   "cell_type": "code",
   "execution_count": null,
   "metadata": {},
   "outputs": [],
   "source": []
  },
  {
   "cell_type": "markdown",
   "metadata": {},
   "source": [
    "## (3) Off-Policy Evaluation (OPE)\n",
    "OPE attempts to estimate the performance of evaluation policies using their action choice probabilities.\n",
    "\n",
    "Here, we use the **InverseProbabilityWeighting (IPW)**, **DirectMethod (DM)**, and **Doubly Robust (DR)** estimators and estimate the performances of the pre-trained evaluation policies.\n",
    " \n",
    "Finally, we summarize and visualize the results of OPE and evaluate their estimation accuracies."
   ]
  },
  {
   "cell_type": "code",
   "execution_count": 7,
   "metadata": {},
   "outputs": [],
   "source": [
    "# estimate the mean reward function by using ML model (Logistic Regression here)\n",
    "# the estimated rewards are used by model-dependent estimators such as DM and DR\n",
    "regression_model = RegressionModel(\n",
    "    n_actions=dataset.n_actions,\n",
    "    len_list=dataset.len_list,\n",
    "    action_context=dataset.action_context,\n",
    "    base_model=LogisticRegression(random_state=12345),\n",
    ")\n",
    "# please refer to https://arxiv.org/abs/2002.08536 about the details of the cross-fitting procedure.\n",
    "estimated_rewards_by_reg_model = regression_model.fit_predict(\n",
    "    context=bandit_feedback_test[\"context\"],\n",
    "    action=bandit_feedback_test[\"action\"],\n",
    "    reward=bandit_feedback_test[\"reward\"],\n",
    "    n_folds=3, # use 3-fold cross-fitting\n",
    "    random_state=12345,\n",
    ")"
   ]
  },
  {
   "cell_type": "code",
   "execution_count": 8,
   "metadata": {
    "tags": []
   },
   "outputs": [],
   "source": [
    "# estimate the policy value of the evaluation policies based on their action choice probabilities\n",
    "# it is possible to set multiple OPE estimators to the `ope_estimators` argument\n",
    "ope = OffPolicyEvaluation(\n",
    "    bandit_feedback=bandit_feedback_test,\n",
    "    ope_estimators=[InverseProbabilityWeighting(), DirectMethod(), DoublyRobust()]\n",
    ")"
   ]
  },
  {
   "cell_type": "code",
   "execution_count": 9,
   "metadata": {
    "tags": []
   },
   "outputs": [
    {
     "name": "stdout",
     "output_type": "stream",
     "text": [
      "         mean  95.0% CI (lower)  95.0% CI (upper)\n",
      "ipw  0.632855          0.628737          0.636279\n",
      "dm   0.613581          0.612321          0.615141\n",
      "dr   0.633362          0.630195          0.636450 \n",
      "\n"
     ]
    },
    {
     "data": {
      "image/png": "[encoded data removed]",
      "text/plain": [
       "<Figure size 576x432 with 1 Axes>"
      ]
     },
     "metadata": {},
     "output_type": "display_data"
    }
   ],
   "source": [
    "# estimate the policy value of IPWLearner with Logistic Regression\n",
    "estimated_policy_value_a, estimated_interval_a = ope.summarize_off_policy_estimates(\n",
    "    action_dist=action_dist_a,\n",
    "    estimated_rewards_by_reg_model=estimated_rewards_by_reg_model\n",
    ")\n",
    "print(estimated_interval_a, '\\n')\n",
    "# visualize estimated policy values of IPWLearner with Logistic Regression by the three OPE estimators\n",
    "# and their 95% confidence intervals (estimated by nonparametric bootstrap method)\n",
    "ope.visualize_off_policy_estimates(\n",
    "    action_dist=action_dist_a,\n",
    "    estimated_rewards_by_reg_model=estimated_rewards_by_reg_model,\n",
    "    n_bootstrap_samples=10000, # number of resampling performed in the bootstrap procedure\n",
    "    random_state=12345,\n",
    ")"
   ]
  },
  {
   "cell_type": "code",
   "execution_count": 10,
   "metadata": {
    "tags": []
   },
   "outputs": [
    {
     "name": "stdout",
     "output_type": "stream",
     "text": [
      "         mean  95.0% CI (lower)  95.0% CI (upper)\n",
      "ipw  0.639075          0.634845          0.643522\n",
      "dm   0.612892          0.611749          0.614339\n",
      "dr   0.639737          0.636471          0.643204 \n",
      "\n"
     ]
    },
    {
     "data": {
      "image/png": "[encoded data removed]",
      "text/plain": [
       "<Figure size 576x432 with 1 Axes>"
      ]
     },
     "metadata": {},
     "output_type": "display_data"
    }
   ],
   "source": [
    "# estimate the policy value of IPWLearner with Random Forest by OPE estimators\n",
    "estimated_policy_value_b, estimated_interval_b = ope.summarize_off_policy_estimates(\n",
    "    action_dist=action_dist_b,\n",
    "    estimated_rewards_by_reg_model=estimated_rewards_by_reg_model\n",
    ")\n",
    "print(estimated_interval_b, '\\n')\n",
    "# visualize estimated policy values of IPWLearner with Random Forest by the three OPE estimators\n",
    "# and their 95% confidence intervals (estimated by nonparametric bootstrap method)\n",
    "ope.visualize_off_policy_estimates(\n",
    "    action_dist=action_dist_b,\n",
    "    estimated_rewards_by_reg_model=estimated_rewards_by_reg_model,\n",
    "    n_bootstrap_samples=10000, # number of resampling performed in the bootstrap procedure\n",
    "    random_state=12345,\n",
    ")"
   ]
  },
  {
   "cell_type": "code",
   "execution_count": 11,
   "metadata": {
    "tags": []
   },
   "outputs": [
    {
     "name": "stdout",
     "output_type": "stream",
     "text": [
      "         mean  95.0% CI (lower)  95.0% CI (upper)\n",
      "ipw  0.606799          0.603550          0.609777\n",
      "dm   0.607408          0.606159          0.608773\n",
      "dr   0.607145          0.604248          0.610976 \n",
      "\n"
     ]
    },
    {
     "data": {
      "image/png": "[encoded data removed]",
      "text/plain": [
       "<Figure size 576x432 with 1 Axes>"
      ]
     },
     "metadata": {},
     "output_type": "display_data"
    }
   ],
   "source": [
    "# estimate the policy value of Uniform Random\n",
    "estimated_policy_value_c, estimated_interval_c = ope.summarize_off_policy_estimates(\n",
    "    action_dist=action_dist_c,\n",
    "    estimated_rewards_by_reg_model=estimated_rewards_by_reg_model\n",
    ")\n",
    "print(estimated_interval_c, '\\n')\n",
    "# visualize estimated policy values of Uniform Random by the three OPE estimators\n",
    "# and their 95% confidence intervals (estimated by nonparametric bootstrap method)\n",
    "ope.visualize_off_policy_estimates(\n",
    "    action_dist=action_dist_c,\n",
    "    estimated_rewards_by_reg_model=estimated_rewards_by_reg_model,\n",
    "    n_bootstrap_samples=10000, # number of resampling performed in the bootstrap procedure\n",
    "    random_state=12345,\n",
    ")"
   ]
  },
  {
   "cell_type": "markdown",
   "metadata": {},
   "source": [
    "Our OPE procedure estimates that IPWLearners largely outperform the Uniform Random policy.\n",
    "\n",
    "Moreover, IPWLearner with Random Forest seems to be the best one."
   ]
  },
  {
   "cell_type": "code",
   "execution_count": null,
   "metadata": {},
   "outputs": [],
   "source": []
  },
  {
   "cell_type": "markdown",
   "metadata": {},
   "source": [
    "## (4) Evaluation of OPE estimators\n",
    "Our final step is **the evaluation of OPE**, which evaluates and compares the estimation accuracies of OPE estimators.\n",
    "\n",
    "With the synthetic data, we can know the ground-truth policy values of the evaluation policies. \n",
    "Therefore, we can compare the estimated policy values by OPE estimators with the ground-turths to evaluate OPE estimators."
   ]
  },
  {
   "cell_type": "code",
   "execution_count": 12,
   "metadata": {
    "tags": []
   },
   "outputs": [
    {
     "name": "stdout",
     "output_type": "stream",
     "text": [
      "ground-truth policy value of IPWLearner with Logistic Regression: 0.632011615352198\n",
      "ground-truth policy value of IPWLearner with Random Forest: 0.6385692120839856\n",
      "ground-truth policy value of Unifrom Random: 0.606060477451349\n"
     ]
    }
   ],
   "source": [
    "# we first calculate the ground-truth policy values of the three evaluation policies\n",
    "# using the expected rewards contained in the bandit feedback dictionary\n",
    "expected_rewards = bandit_feedback_test['expected_reward']\n",
    "ground_truth_a = np.average(expected_rewards, weights=action_dist_a[:, :, 0], axis=1).mean()\n",
    "ground_truth_b = np.average(expected_rewards, weights=action_dist_b[:, :, 0], axis=1).mean()\n",
    "ground_truth_c = np.average(expected_rewards, weights=action_dist_c[:, :, 0], axis=1).mean()\n",
    "\n",
    "print(f'ground-truth policy value of IPWLearner with Logistic Regression: {ground_truth_a}')\n",
    "print(f'ground-truth policy value of IPWLearner with Random Forest: {ground_truth_b}')\n",
    "print(f'ground-truth policy value of Unifrom Random: {ground_truth_c}')"
   ]
  },
  {
   "cell_type": "markdown",
   "metadata": {},
   "source": [
    "In fact, IPWLearner with Random Forest reveals the best performance among the three evaluation policies.\n",
    "\n",
    "Using the above ground-truths, we can now evaluate the estimation accuracy of the estimators."
   ]
  },
  {
   "cell_type": "code",
   "execution_count": 13,
   "metadata": {},
   "outputs": [
    {
     "data": {
      "text/html": [
       "<div>\n",
       "<style scoped>\n",
       "    .dataframe tbody tr th:only-of-type {\n",
       "        vertical-align: middle;\n",
       "    }\n",
       "\n",
       "    .dataframe tbody tr th {\n",
       "        vertical-align: top;\n",
       "    }\n",
       "\n",
       "    .dataframe thead th {\n",
       "        text-align: right;\n",
       "    }\n",
       "</style>\n",
       "<table border=\"1\" class=\"dataframe\">\n",
       "  <thead>\n",
       "    <tr style=\"text-align: right;\">\n",
       "      <th></th>\n",
       "      <th>relative-ee</th>\n",
       "    </tr>\n",
       "  </thead>\n",
       "  <tbody>\n",
       "    <tr>\n",
       "      <th>ipw</th>\n",
       "      <td>0.001501</td>\n",
       "    </tr>\n",
       "    <tr>\n",
       "      <th>dm</th>\n",
       "      <td>0.029115</td>\n",
       "    </tr>\n",
       "    <tr>\n",
       "      <th>dr</th>\n",
       "      <td>0.002069</td>\n",
       "    </tr>\n",
       "  </tbody>\n",
       "</table>\n",
       "</div>"
      ],
      "text/plain": [
       "     relative-ee\n",
       "ipw     0.001501\n",
       "dm      0.029115\n",
       "dr      0.002069"
      ]
     },
     "execution_count": 13,
     "metadata": {},
     "output_type": "execute_result"
    }
   ],
   "source": [
    "# evaluate the estimation performances of OPE estimators \n",
    "# by comparing the estimated policy values of IPWLearner with Logistic Regression and its ground-truth.\n",
    "# `evaluate_performance_of_estimators` returns a dictionary containing estimation performances of given estimators \n",
    "relative_ee_a = ope.summarize_estimators_comparison(\n",
    "    ground_truth_policy_value=ground_truth_a,\n",
    "    action_dist=action_dist_a,\n",
    "    estimated_rewards_by_reg_model=estimated_rewards_by_reg_model,\n",
    "    metric=\"relative-ee\", # \"relative-ee\" (relative estimation error) or \"se\" (squared error)\n",
    ")\n",
    "\n",
    "# estimation performances of the three estimators (lower is better)\n",
    "relative_ee_a"
   ]
  },
  {
   "cell_type": "code",
   "execution_count": 14,
   "metadata": {},
   "outputs": [
    {
     "data": {
      "text/html": [
       "<div>\n",
       "<style scoped>\n",
       "    .dataframe tbody tr th:only-of-type {\n",
       "        vertical-align: middle;\n",
       "    }\n",
       "\n",
       "    .dataframe tbody tr th {\n",
       "        vertical-align: top;\n",
       "    }\n",
       "\n",
       "    .dataframe thead th {\n",
       "        text-align: right;\n",
       "    }\n",
       "</style>\n",
       "<table border=\"1\" class=\"dataframe\">\n",
       "  <thead>\n",
       "    <tr style=\"text-align: right;\">\n",
       "      <th></th>\n",
       "      <th>relative-ee</th>\n",
       "    </tr>\n",
       "  </thead>\n",
       "  <tbody>\n",
       "    <tr>\n",
       "      <th>ipw</th>\n",
       "      <td>0.000881</td>\n",
       "    </tr>\n",
       "    <tr>\n",
       "      <th>dm</th>\n",
       "      <td>0.040032</td>\n",
       "    </tr>\n",
       "    <tr>\n",
       "      <th>dr</th>\n",
       "      <td>0.001689</td>\n",
       "    </tr>\n",
       "  </tbody>\n",
       "</table>\n",
       "</div>"
      ],
      "text/plain": [
       "     relative-ee\n",
       "ipw     0.000881\n",
       "dm      0.040032\n",
       "dr      0.001689"
      ]
     },
     "execution_count": 14,
     "metadata": {},
     "output_type": "execute_result"
    }
   ],
   "source": [
    "# evaluate the estimation performance of OPE estimators \n",
    "# by comparing the estimated policy values of IPWLearner with Random Forest and its ground-truth.\n",
    "# `evaluate_performance_of_estimators` returns a dictionary containing estimation performances of given estimators \n",
    "relative_ee_b = ope.summarize_estimators_comparison(\n",
    "    ground_truth_policy_value=ground_truth_b,\n",
    "    action_dist=action_dist_b,\n",
    "    estimated_rewards_by_reg_model=estimated_rewards_by_reg_model,\n",
    "    metric=\"relative-ee\", # \"relative-ee\" (relative estimation error) or \"se\" (squared error)\n",
    ")\n",
    "\n",
    "# estimation performances of the three estimators (lower is better)\n",
    "relative_ee_b"
   ]
  },
  {
   "cell_type": "code",
   "execution_count": 15,
   "metadata": {},
   "outputs": [
    {
     "data": {
      "text/html": [
       "<div>\n",
       "<style scoped>\n",
       "    .dataframe tbody tr th:only-of-type {\n",
       "        vertical-align: middle;\n",
       "    }\n",
       "\n",
       "    .dataframe tbody tr th {\n",
       "        vertical-align: top;\n",
       "    }\n",
       "\n",
       "    .dataframe thead th {\n",
       "        text-align: right;\n",
       "    }\n",
       "</style>\n",
       "<table border=\"1\" class=\"dataframe\">\n",
       "  <thead>\n",
       "    <tr style=\"text-align: right;\">\n",
       "      <th></th>\n",
       "      <th>relative-ee</th>\n",
       "    </tr>\n",
       "  </thead>\n",
       "  <tbody>\n",
       "    <tr>\n",
       "      <th>ipw</th>\n",
       "      <td>0.001044</td>\n",
       "    </tr>\n",
       "    <tr>\n",
       "      <th>dm</th>\n",
       "      <td>0.002237</td>\n",
       "    </tr>\n",
       "    <tr>\n",
       "      <th>dr</th>\n",
       "      <td>0.002179</td>\n",
       "    </tr>\n",
       "  </tbody>\n",
       "</table>\n",
       "</div>"
      ],
      "text/plain": [
       "     relative-ee\n",
       "ipw     0.001044\n",
       "dm      0.002237\n",
       "dr      0.002179"
      ]
     },
     "execution_count": 15,
     "metadata": {},
     "output_type": "execute_result"
    }
   ],
   "source": [
    "# evaluate the estimation performance of OPE estimators \n",
    "# by comparing the estimated policy values of Uniform Random and its ground-truth.\n",
    "# `evaluate_performance_of_estimators` returns a dictionary containing estimation performances of given estimators \n",
    "relative_ee_c = ope.summarize_estimators_comparison(\n",
    "    ground_truth_policy_value=ground_truth_c,\n",
    "    action_dist=action_dist_c,\n",
    "    estimated_rewards_by_reg_model=estimated_rewards_by_reg_model,\n",
    "    metric=\"relative-ee\", # \"relative-ee\" (relative estimation error) or \"se\" (squared error)\n",
    ")\n",
    "\n",
    "# estimation performances of the three estimators (lower is better)\n",
    "relative_ee_c"
   ]
  },
  {
   "cell_type": "markdown",
   "metadata": {},
   "source": [
    "Please see [https://github.com/st-tech/zr-obp/tree/master/examples/synthetic](https://github.com/st-tech/zr-obp/tree/master/examples/synthetic) for a more sophisticated example of the evaluation of OPE with synthetic data."
   ]
  },
  {
   "cell_type": "code",
   "execution_count": null,
   "metadata": {},
   "outputs": [],
   "source": []
  }
 ],
 "metadata": {
  "kernelspec": {
   "display_name": "Python 3",
   "language": "python",
   "name": "python3"
  },
  "language_info": {
   "codemirror_mode": {
    "name": "ipython",
    "version": 3
   },
   "file_extension": ".py",
   "mimetype": "text/x-python",
   "name": "python",
   "nbconvert_exporter": "python",
   "pygments_lexer": "ipython3",
   "version": "3.8.5"
  }
 },
 "nbformat": 4,
 "nbformat_minor": 2
}
